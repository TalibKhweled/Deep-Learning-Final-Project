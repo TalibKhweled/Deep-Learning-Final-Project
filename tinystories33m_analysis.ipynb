{
 "cells": [
  {
   "cell_type": "code",
   "execution_count": 2,
   "metadata": {},
   "outputs": [],
   "source": [
    "import itertools\n",
    "import os\n",
    "from pathlib import Path\n",
    "from typing import Any, Callable, Literal, TypeAlias\n",
    "\n",
    "import torch as t\n",
    "from datasets import load_dataset\n",
    "from huggingface_hub import hf_hub_download\n",
    "from IPython.display import HTML, IFrame, clear_output, display\n",
    "from jaxtyping import Float, Int\n",
    "\n",
    "from rich import print as rprint\n",
    "from rich.table import Table\n",
    "from sae_lens import (\n",
    "    SAE,\n",
    "    ActivationsStore,\n",
    "    HookedSAETransformer,\n",
    "    LanguageModelSAERunnerConfig,\n",
    "    SAEConfig,\n",
    "    SAETrainingRunner,\n",
    "    upload_saes_to_huggingface,\n",
    ")\n",
    "from sae_lens.toolkit.pretrained_saes_directory import get_pretrained_saes_directory\n",
    "from sae_vis import SaeVisData, SaeVisLayoutConfig\n",
    "from sae_dashboard.data_writing_fns import save_feature_centric_vis\n",
    "from sae_dashboard.sae_vis_data import SaeVisConfig\n",
    "from sae_dashboard.sae_vis_runner import SaeVisRunner\n",
    "from tabulate import tabulate\n",
    "from torch import Tensor, nn\n",
    "from torch.distributions.categorical import Categorical\n",
    "from torch.nn import functional as F\n",
    "from tqdm.auto import tqdm\n",
    "from transformer_lens import ActivationCache, HookedTransformer, utils\n",
    "from transformer_lens.hook_points import HookPoint\n",
    "from transformers import AutoTokenizer\n",
    "\n",
    "device = t.device(\"mps\" if t.backends.mps.is_available() else \"cuda\" if t.cuda.is_available() else \"cpu\")"
   ]
  },
  {
   "cell_type": "code",
   "execution_count": 3,
   "metadata": {},
   "outputs": [
    {
     "name": "stdout",
     "output_type": "stream",
     "text": [
      "Loaded pretrained model roneneldan/TinyStories-33M into HookedTransformer\n"
     ]
    },
    {
     "name": "stderr",
     "output_type": "stream",
     "text": [
      "/home/talib/miniconda3/envs/arena/lib/python3.11/site-packages/sae_lens/sae.py:145: UserWarning: \n",
      "This SAE has non-empty model_from_pretrained_kwargs. \n",
      "For optimal performance, load the model like so:\n",
      "model = HookedSAETransformer.from_pretrained_no_processing(..., **cfg.model_from_pretrained_kwargs)\n",
      "  warnings.warn(\n"
     ]
    }
   ],
   "source": [
    "t.set_grad_enabled(False)\n",
    "hf_repo_id = \"talibk/TinyStories-33M-SAE-lower-dead-threshold\"\n",
    "dataset_path = \"roneneldan/TinyStories\"\n",
    "path_for_vis = Path(f\"{os.getcwd()}\").resolve()\n",
    "\n",
    "# Load the model\n",
    "ts_model: HookedSAETransformer = HookedSAETransformer.from_pretrained(\"roneneldan/TinyStories-33M\")\n",
    "\n",
    "# Load SAEs\n",
    "ts_saes = {\n",
    "    layer: SAE.from_pretrained(\n",
    "        release=hf_repo_id,\n",
    "        sae_id=f\"blocks.{layer}.hook_mlp_out\",\n",
    "        device=str(device)\n",
    "    )[0]\n",
    "    for layer in [0, 1, 2, 3]\n",
    "}\n",
    "\n",
    "# Load tokenizer\n",
    "tokenizer = AutoTokenizer.from_pretrained(\"EleutherAI/gpt-neo-125M\")"
   ]
  },
  {
   "cell_type": "code",
   "execution_count": 4,
   "metadata": {},
   "outputs": [
    {
     "name": "stdout",
     "output_type": "stream",
     "text": [
      "torch.Size([256, 304])\n"
     ]
    },
    {
     "name": "stderr",
     "output_type": "stream",
     "text": [
      "/tmp/ipykernel_862677/2374659005.py:10: UserWarning: To copy construct from a tensor, it is recommended to use sourceTensor.clone().detach() or sourceTensor.clone().detach().requires_grad_(True), rather than torch.tensor(sourceTensor).\n",
      "  tokens = t.tensor(\n"
     ]
    }
   ],
   "source": [
    "dataset = load_dataset(dataset_path, streaming=True)\n",
    "batch_size = 256\n",
    "layer = 1\n",
    "\n",
    "# Get batch_size number of examples from the dataset\n",
    "batch = list(itertools.islice(dataset[\"train\"], batch_size))\n",
    "tokenizer.pad_token = tokenizer.eos_token\n",
    "\n",
    "# Extract the text from each example and tokenize\n",
    "tokens = t.tensor(\n",
    "    tokenizer(\n",
    "        [example[\"text\"] for example in batch],\n",
    "        padding=True,\n",
    "        truncation=True,\n",
    "        return_tensors=\"pt\"\n",
    "    )[\"input_ids\"],\n",
    "    device=str(device)\n",
    ")\n",
    "print(tokens.shape)\n",
    "\n"
   ]
  },
  {
   "cell_type": "code",
   "execution_count": 5,
   "metadata": {},
   "outputs": [
    {
     "data": {
      "text/plain": [
       "'sae_vis_data = SaeVisData.create(\\n    encoder=ts_saes[0],\\n    model=ts_model,\\n    tokens=tokens,\\n    cfg=SaeVisConfig(\\n        hook_point=\"blocks.0.hook_mlp_out\",\\n        features=list(range(256)),\\n        minibatch_size_features=64,\\n        minibatch_size_tokens=256,\\n        device=\"cuda\",\\n        dtype=\"bfloat16\"\\n    )\\n)'"
      ]
     },
     "execution_count": 5,
     "metadata": {},
     "output_type": "execute_result"
    }
   ],
   "source": [
    "cfg=SaeVisConfig(\n",
    "        hook_point=f\"blocks.{layer}.hook_mlp_out\",\n",
    "        features=list(range(256)),\n",
    "        minibatch_size_features=64,\n",
    "        minibatch_size_tokens=256,\n",
    "        device=\"cuda\",\n",
    "        dtype=\"bfloat16\"\n",
    "    )\n",
    "\n",
    "data = SaeVisRunner(cfg).run(encoder=ts_saes[layer], model=ts_model, tokens=tokens)\n",
    "\n",
    "\n",
    "save_feature_centric_vis(sae_vis_data=data, filename=f\"feature_dashboard-tinystories33m-layer{layer}.html\")\n",
    "\n"
   ]
  },
  {
   "cell_type": "markdown",
   "metadata": {},
   "source": [
    "#### Layer 0 Basic Analysis\n",
    "4 - materails related to arts and crafts\n",
    "\n",
    "21 - words related to speaking, \"said, cried, shouted, etc\"\n",
    "\n",
    "24 - possesive adjectives, \"my, your, his, her, etc\"\n",
    "\n",
    "26 - words related to time, \"yesterday, today, tomorrow, etc\"\n",
    "\n",
    "29 - words related to noises\n",
    "\n",
    "36 - Names of people, characters\n",
    "\n"
   ]
  },
  {
   "cell_type": "code",
   "execution_count": null,
   "metadata": {},
   "outputs": [],
   "source": []
  },
  {
   "cell_type": "code",
   "execution_count": null,
   "metadata": {},
   "outputs": [],
   "source": []
  }
 ],
 "metadata": {
  "kernelspec": {
   "display_name": "arena",
   "language": "python",
   "name": "python3"
  },
  "language_info": {
   "codemirror_mode": {
    "name": "ipython",
    "version": 3
   },
   "file_extension": ".py",
   "mimetype": "text/x-python",
   "name": "python",
   "nbconvert_exporter": "python",
   "pygments_lexer": "ipython3",
   "version": "3.11.10"
  }
 },
 "nbformat": 4,
 "nbformat_minor": 2
}
